{
 "cells": [
  {
   "cell_type": "markdown",
   "id": "15811dc9",
   "metadata": {},
   "source": [
    "# TOP 500 COMPANIES IN THE WORLD"
   ]
  },
  {
   "cell_type": "code",
   "execution_count": 1,
   "id": "c4bd0f7f",
   "metadata": {},
   "outputs": [],
   "source": [
    "import requests\n",
    "import pandas as pd\n",
    "from bs4 import BeautifulSoup\n",
    "\n",
    "import chromedriver_autoinstaller\n",
    "from selenium import webdriver"
   ]
  },
  {
   "cell_type": "code",
   "execution_count": 2,
   "id": "2c661cc7",
   "metadata": {},
   "outputs": [],
   "source": [
    "#install chrome\n",
    "chromedriver_autoinstaller.install()\n",
    "\n",
    "#use the installed browser for selenium\n",
    "browser = webdriver.Chrome()"
   ]
  },
  {
   "cell_type": "code",
   "execution_count": 3,
   "id": "069c02de",
   "metadata": {},
   "outputs": [],
   "source": [
    "browser.get(\"https://disfold.com/world/companies/?page=1\")"
   ]
  },
  {
   "cell_type": "code",
   "execution_count": 4,
   "id": "f779aef4",
   "metadata": {},
   "outputs": [],
   "source": [
    "#make beautiful html\n",
    "soup = BeautifulSoup(browser.page_source, \"lxml\")"
   ]
  },
  {
   "cell_type": "code",
   "execution_count": 5,
   "id": "6a1cb7eb",
   "metadata": {
    "scrolled": false
   },
   "outputs": [],
   "source": [
    "#mengambil data\n",
    "\n",
    "draft = soup.find_all('td', class_=\"center-align\")"
   ]
  },
  {
   "cell_type": "code",
   "execution_count": 6,
   "id": "68c64501",
   "metadata": {},
   "outputs": [],
   "source": [
    "data_draft = []\n",
    "\n",
    "for d in range (0, len(draft)):\n",
    "    data_draft.append(draft[d])"
   ]
  },
  {
   "cell_type": "code",
   "execution_count": 7,
   "id": "e7076871",
   "metadata": {},
   "outputs": [],
   "source": [
    "#mencari ranking\n",
    "\n",
    "ranks = []\n",
    "\n",
    "for r in range(0, len(data_draft), 3): #hanya mengambil rank yg dimulai dri indeks 0 dan berjarak 3 index\n",
    "    ranks.append(data_draft[r].text.strip())"
   ]
  },
  {
   "cell_type": "code",
   "execution_count": 8,
   "id": "8677da78",
   "metadata": {
    "scrolled": true
   },
   "outputs": [
    {
     "data": {
      "text/plain": [
       "['1',\n",
       " '2',\n",
       " '3',\n",
       " '4',\n",
       " '5',\n",
       " '6',\n",
       " '7',\n",
       " '8',\n",
       " '9',\n",
       " '10',\n",
       " '11',\n",
       " '12',\n",
       " '13',\n",
       " '14',\n",
       " '15',\n",
       " '16',\n",
       " '17',\n",
       " '18',\n",
       " '19',\n",
       " '20',\n",
       " '21',\n",
       " '22',\n",
       " '23',\n",
       " '24',\n",
       " '25',\n",
       " '26',\n",
       " '27',\n",
       " '28',\n",
       " '29',\n",
       " '30',\n",
       " '31',\n",
       " '32',\n",
       " '33',\n",
       " '34',\n",
       " '35',\n",
       " '36',\n",
       " '37',\n",
       " '38',\n",
       " '39',\n",
       " '40',\n",
       " '41',\n",
       " '42',\n",
       " '43',\n",
       " '44',\n",
       " '45',\n",
       " '46',\n",
       " '47',\n",
       " '48',\n",
       " '49',\n",
       " '50']"
      ]
     },
     "execution_count": 8,
     "metadata": {},
     "output_type": "execute_result"
    }
   ],
   "source": [
    "ranks"
   ]
  },
  {
   "cell_type": "code",
   "execution_count": 9,
   "id": "8a6ac2fb",
   "metadata": {},
   "outputs": [],
   "source": [
    "#mencari market cap\n",
    "\n",
    "mcap = []\n",
    "\n",
    "for m in range(1, len(data_draft), 3): #hanya mengambil market cap yg dimulai dri indeks 1 dan berjarak 3 index\n",
    "    mcap.append(data_draft[m].text.strip())"
   ]
  },
  {
   "cell_type": "code",
   "execution_count": 10,
   "id": "22c094f8",
   "metadata": {
    "scrolled": true
   },
   "outputs": [
    {
     "data": {
      "text/plain": [
       "['$2.067 T',\n",
       " '$1.883 T',\n",
       " '$1.788 T',\n",
       " '$1.158 T',\n",
       " '$875.51 B',\n",
       " '$683.10 B',\n",
       " '$495.37 B',\n",
       " '$461.85 B',\n",
       " '$454.25 B',\n",
       " '$439.96 B',\n",
       " '$422.35 B',\n",
       " '$394.66 B',\n",
       " '$393.34 B',\n",
       " '$388.97 B',\n",
       " '$382.38 B',\n",
       " '$379.74 B',\n",
       " '$364.18 B',\n",
       " '$359.15 B',\n",
       " '$347.61 B',\n",
       " '$336.43 B',\n",
       " '$334.33 B',\n",
       " '$321.97 B',\n",
       " '$319.89 B',\n",
       " '$314.09 B',\n",
       " '$304.61 B',\n",
       " '$292.61 B',\n",
       " '$287.63 B',\n",
       " '$285.80 B',\n",
       " '$281.30 B',\n",
       " '$275.08 B',\n",
       " '$265.70 B',\n",
       " '$259.51 B',\n",
       " '$256.61 B',\n",
       " '$248.90 B',\n",
       " '$231.29 B',\n",
       " '$229.28 B',\n",
       " '$224.86 B',\n",
       " '$220.56 B',\n",
       " '$220.39 B',\n",
       " '$217.81 B',\n",
       " '$215.98 B',\n",
       " '$215.80 B',\n",
       " '$201.13 B',\n",
       " '$196.94 B',\n",
       " '$196.71 B',\n",
       " '$195.22 B',\n",
       " '$194.45 B',\n",
       " '$193.02 B',\n",
       " '$191.43 B',\n",
       " '$190.92 B']"
      ]
     },
     "execution_count": 10,
     "metadata": {},
     "output_type": "execute_result"
    }
   ],
   "source": [
    "mcap"
   ]
  },
  {
   "cell_type": "code",
   "execution_count": 11,
   "id": "0cf0afd4",
   "metadata": {},
   "outputs": [],
   "source": [
    "#mencari stock\n",
    "\n",
    "stocks = []\n",
    "\n",
    "for s in range(2, len(data_draft), 3): #hanya mengambil stock yg dimulai dri indeks 2 dan berjarak 3 index\n",
    "    stocks.append(data_draft[s].text.strip())"
   ]
  },
  {
   "cell_type": "code",
   "execution_count": 12,
   "id": "a792f41f",
   "metadata": {
    "scrolled": true
   },
   "outputs": [
    {
     "data": {
      "text/plain": [
       "['AAPL',\n",
       " '2222',\n",
       " 'MSFT',\n",
       " 'GOOG',\n",
       " 'AMZN',\n",
       " 'BRK.B',\n",
       " 'UNH',\n",
       " 'JNJ',\n",
       " 'XOM',\n",
       " 'V',\n",
       " '0700',\n",
       " '2330',\n",
       " 'JPM',\n",
       " 'TSLA',\n",
       " 'WMT',\n",
       " 'MC',\n",
       " 'NVDA',\n",
       " 'PG',\n",
       " 'LLY',\n",
       " 'CVX',\n",
       " 'MA',\n",
       " 'HD',\n",
       " 'META',\n",
       " '600519',\n",
       " 'NOVO.B',\n",
       " '005930',\n",
       " 'PFE',\n",
       " 'ABBV',\n",
       " 'MRK',\n",
       " 'KO',\n",
       " 'BAC',\n",
       " 'ROG',\n",
       " '9988',\n",
       " 'PEP',\n",
       " 'AVGO',\n",
       " 'ASML',\n",
       " 'BHP',\n",
       " 'PRX',\n",
       " 'ORCL',\n",
       " 'AZN',\n",
       " 'TMO',\n",
       " '601398',\n",
       " 'COST',\n",
       " 'CSCO',\n",
       " 'SHEL',\n",
       " 'OR',\n",
       " 'NOVN',\n",
       " 'MCD',\n",
       " 'ABT',\n",
       " 'DHR']"
      ]
     },
     "execution_count": 12,
     "metadata": {},
     "output_type": "execute_result"
    }
   ],
   "source": [
    "stocks"
   ]
  },
  {
   "cell_type": "code",
   "execution_count": 13,
   "id": "74cfae2e",
   "metadata": {},
   "outputs": [],
   "source": [
    "company = soup.find_all('a')"
   ]
  },
  {
   "cell_type": "code",
   "execution_count": 14,
   "id": "3f60c5b6",
   "metadata": {},
   "outputs": [],
   "source": [
    "names = []\n",
    "for n in range (8, (6*51)+2): #karena ada 6 data, dan satu halaman ada 50 baris (50+1)\n",
    "    names.append(company[n])"
   ]
  },
  {
   "cell_type": "code",
   "execution_count": 16,
   "id": "b38f3fb0",
   "metadata": {},
   "outputs": [],
   "source": [
    "#mencari nama perusahaan\n",
    "\n",
    "companies = []\n",
    "\n",
    "for c in range(0, len(names), 6): #hanya mengambil nama yg dimulai dri indeks 0 dan berjarak 6 index\n",
    "    companies.append(names[c].text.strip())"
   ]
  },
  {
   "cell_type": "code",
   "execution_count": 17,
   "id": "b9334a84",
   "metadata": {
    "scrolled": false
   },
   "outputs": [
    {
     "data": {
      "text/plain": [
       "['Apple Inc.',\n",
       " 'Saudi Arabian Oil Company',\n",
       " 'Microsoft Corporation',\n",
       " 'Alphabet Inc.',\n",
       " 'Amazon.com, Inc.',\n",
       " 'Berkshire Hathaway Inc.',\n",
       " 'UnitedHealth Group Incorporated',\n",
       " 'Johnson & Johnson',\n",
       " 'Exxon Mobil Corporation',\n",
       " 'Visa Inc.',\n",
       " 'Tencent Holdings Ltd',\n",
       " 'Taiwan Semiconductor Manufacturing Company Limited',\n",
       " 'JPMorgan Chase & Co.',\n",
       " 'Tesla, Inc.',\n",
       " 'Walmart Inc.',\n",
       " 'LVMH Moët Hennessy - Louis Vuitton, SE',\n",
       " 'Nvidia Corporation',\n",
       " 'The Procter & Gamble Company',\n",
       " 'Eli Lilly and Company',\n",
       " 'Chevron Corporation',\n",
       " 'Mastercard Incorporated',\n",
       " 'The Home Depot, Inc.',\n",
       " 'Meta Platforms, Inc.',\n",
       " 'Kweichow Moutai Co. Ltd',\n",
       " 'Novo Nordisk A/S',\n",
       " 'Samsung Electronics Co., Ltd.',\n",
       " 'Pfizer Inc.',\n",
       " 'AbbVie Inc.',\n",
       " 'Merck & Co., Inc.',\n",
       " 'The Coca-Cola Company',\n",
       " 'Bank of America Corporation',\n",
       " 'Roche Holding AG',\n",
       " 'Alibaba Group Holding Limited',\n",
       " 'PepsiCo, Inc.',\n",
       " 'Broadcom Inc.',\n",
       " 'ASML Holding N.V.',\n",
       " 'BHP Group',\n",
       " 'Prosus N.V.',\n",
       " 'Oracle Corporation',\n",
       " 'AstraZeneca plc',\n",
       " 'Thermo Fisher Scientific Inc.',\n",
       " 'Industrial & Commercial Bank of China Ltd',\n",
       " 'Costco Wholesale Corporation',\n",
       " 'Cisco Systems, Inc.',\n",
       " 'Shell plc',\n",
       " \"L'Oréal SA\",\n",
       " 'Novartis AG',\n",
       " \"McDonald's Corporation\",\n",
       " 'Abbott Laboratories',\n",
       " 'Danaher Corporation']"
      ]
     },
     "execution_count": 17,
     "metadata": {},
     "output_type": "execute_result"
    }
   ],
   "source": [
    "companies"
   ]
  },
  {
   "cell_type": "code",
   "execution_count": 18,
   "id": "2165413e",
   "metadata": {},
   "outputs": [],
   "source": [
    "#mencari nama perusahaan\n",
    "\n",
    "country = []\n",
    "\n",
    "for y in range(3, len(names), 6): #hanya mengambil negara yg dimulai dri indeks 3 dan berjarak 6 index\n",
    "    country.append(names[y].text.strip())"
   ]
  },
  {
   "cell_type": "code",
   "execution_count": 19,
   "id": "44d02042",
   "metadata": {
    "scrolled": true
   },
   "outputs": [
    {
     "data": {
      "text/plain": [
       "['United States',\n",
       " 'Saudi Arabia',\n",
       " 'United States',\n",
       " 'United States',\n",
       " 'United States',\n",
       " 'United States',\n",
       " 'United States',\n",
       " 'United States',\n",
       " 'United States',\n",
       " 'United States',\n",
       " 'China',\n",
       " 'Taiwan',\n",
       " 'United States',\n",
       " 'United States',\n",
       " 'United States',\n",
       " 'France',\n",
       " 'United States',\n",
       " 'United States',\n",
       " 'United States',\n",
       " 'United States',\n",
       " 'United States',\n",
       " 'United States',\n",
       " 'United States',\n",
       " 'China',\n",
       " 'Denmark',\n",
       " 'South Korea',\n",
       " 'United States',\n",
       " 'United States',\n",
       " 'United States',\n",
       " 'United States',\n",
       " 'United States',\n",
       " 'Switzerland',\n",
       " 'China',\n",
       " 'United States',\n",
       " 'United States',\n",
       " 'Netherlands',\n",
       " 'Australia',\n",
       " 'Netherlands',\n",
       " 'United States',\n",
       " 'United Kingdom',\n",
       " 'United States',\n",
       " 'China',\n",
       " 'United States',\n",
       " 'United States',\n",
       " 'United Kingdom',\n",
       " 'France',\n",
       " 'Switzerland',\n",
       " 'United States',\n",
       " 'United States',\n",
       " 'United States']"
      ]
     },
     "execution_count": 19,
     "metadata": {},
     "output_type": "execute_result"
    }
   ],
   "source": [
    "country"
   ]
  },
  {
   "cell_type": "code",
   "execution_count": 20,
   "id": "106994e1",
   "metadata": {},
   "outputs": [],
   "source": [
    "#mencari sektor perusahaan\n",
    "\n",
    "sectors = []\n",
    "\n",
    "for s in range(4, len(names), 6): #hanya mengambil sektor yg dimulai dri indeks 4 dan berjarak 6 index\n",
    "    sectors.append(names[s].text.strip())"
   ]
  },
  {
   "cell_type": "code",
   "execution_count": 21,
   "id": "3dd668a1",
   "metadata": {
    "scrolled": true
   },
   "outputs": [
    {
     "data": {
      "text/plain": [
       "['Technology',\n",
       " 'Energy',\n",
       " 'Technology',\n",
       " 'Communication Services',\n",
       " 'Consumer Discretionary',\n",
       " 'Financials',\n",
       " 'Healthcare',\n",
       " 'Healthcare',\n",
       " 'Energy',\n",
       " 'Financials',\n",
       " 'Communication Services',\n",
       " 'Technology',\n",
       " 'Financials',\n",
       " 'Consumer Discretionary',\n",
       " 'Consumer Staples',\n",
       " 'Consumer Discretionary',\n",
       " 'Technology',\n",
       " 'Consumer Staples',\n",
       " 'Healthcare',\n",
       " 'Energy',\n",
       " 'Financials',\n",
       " 'Consumer Discretionary',\n",
       " 'Communication Services',\n",
       " 'Consumer Staples',\n",
       " 'Healthcare',\n",
       " 'Technology',\n",
       " 'Healthcare',\n",
       " 'Healthcare',\n",
       " 'Healthcare',\n",
       " 'Consumer Staples',\n",
       " 'Financials',\n",
       " 'Healthcare',\n",
       " 'Consumer Discretionary',\n",
       " 'Consumer Staples',\n",
       " 'Technology',\n",
       " 'Technology',\n",
       " 'Basic Materials',\n",
       " 'Communication Services',\n",
       " 'Technology',\n",
       " 'Healthcare',\n",
       " 'Healthcare',\n",
       " 'Financials',\n",
       " 'Consumer Staples',\n",
       " 'Technology',\n",
       " 'Energy',\n",
       " 'Consumer Staples',\n",
       " 'Healthcare',\n",
       " 'Consumer Discretionary',\n",
       " 'Healthcare',\n",
       " 'Healthcare']"
      ]
     },
     "execution_count": 21,
     "metadata": {},
     "output_type": "execute_result"
    }
   ],
   "source": [
    "sectors"
   ]
  },
  {
   "cell_type": "code",
   "execution_count": 22,
   "id": "2b18ecde",
   "metadata": {},
   "outputs": [],
   "source": [
    "#mencari nama perusahaan\n",
    "\n",
    "industries = []\n",
    "\n",
    "for i in range(5, len(names), 6): #hanya mengambil nama yg dimulai dri indeks 5 dan berjarak 6 index\n",
    "    industries.append(names[i].text.strip())"
   ]
  },
  {
   "cell_type": "code",
   "execution_count": 23,
   "id": "5498f0df",
   "metadata": {
    "scrolled": true
   },
   "outputs": [
    {
     "data": {
      "text/plain": [
       "['Consumer Electronics',\n",
       " 'Oil & Gas Integrated',\n",
       " 'Software—Infrastructure',\n",
       " 'Internet Content & Information',\n",
       " 'Internet Retail',\n",
       " 'Financial Conglomerates',\n",
       " 'Healthcare Plans',\n",
       " 'Drug Manufacturers—General',\n",
       " 'Oil & Gas Integrated',\n",
       " 'Credit Services',\n",
       " 'Internet Content & Information',\n",
       " 'Semiconductors',\n",
       " 'Banks',\n",
       " 'Auto Manufacturers',\n",
       " 'Discount Stores',\n",
       " 'Luxury Goods',\n",
       " 'Semiconductors',\n",
       " 'Household & Personal Products',\n",
       " 'Drug Manufacturers—General',\n",
       " 'Oil & Gas Integrated',\n",
       " 'Credit Services',\n",
       " 'Home Improvement Retail',\n",
       " 'Internet Content & Information',\n",
       " 'Beverages—Wineries & Distilleries',\n",
       " 'Biotechnology',\n",
       " 'Consumer Electronics',\n",
       " 'Drug Manufacturers—General',\n",
       " 'Drug Manufacturers—General',\n",
       " 'Drug Manufacturers—General',\n",
       " 'Beverages—Non-Alcoholic',\n",
       " 'Banks',\n",
       " 'Drug Manufacturers—General',\n",
       " 'Internet Retail',\n",
       " 'Beverages—Non-Alcoholic',\n",
       " 'Semiconductors',\n",
       " 'Semiconductor Equipment & Materials',\n",
       " 'Other Industrial Metals & Mining',\n",
       " 'Internet Content & Information',\n",
       " 'Software—Infrastructure',\n",
       " 'Drug Manufacturers—General',\n",
       " 'Diagnostics & Research',\n",
       " 'Banks',\n",
       " 'Discount Stores',\n",
       " 'Communication Equipment',\n",
       " 'Oil & Gas Integrated',\n",
       " 'Household & Personal Products',\n",
       " 'Drug Manufacturers—General',\n",
       " 'Restaurants',\n",
       " 'Medical Devices',\n",
       " 'Diagnostics & Research']"
      ]
     },
     "execution_count": 23,
     "metadata": {},
     "output_type": "execute_result"
    }
   ],
   "source": [
    "industries"
   ]
  },
  {
   "cell_type": "markdown",
   "id": "bf565165",
   "metadata": {},
   "source": [
    "# Multipage"
   ]
  },
  {
   "cell_type": "code",
   "execution_count": 24,
   "id": "84000a2a",
   "metadata": {},
   "outputs": [],
   "source": [
    "ranks = []\n",
    "companies = []\n",
    "mcap = []\n",
    "stocks = []\n",
    "country = []\n",
    "sectors = []\n",
    "industries = []\n",
    "\n",
    "for index in range (1, 11): #ingin mengambil 500 data (10 halaman)\n",
    "    page = requests.get(f'https://disfold.com/world/companies/?page={index}') \n",
    "    soup = BeautifulSoup(page.content, 'html.parser')\n",
    "    \n",
    "    draft = soup.find_all('td', class_=\"center-align\")\n",
    "    data_draft = []\n",
    "    for d in range (0, len(draft)):\n",
    "        data_draft.append(draft[d])\n",
    "        \n",
    "    for r in range(0, len(data_draft), 3): #hanya mengambil rank yg dimulai dri indeks 0 dan berjarak 3 index\n",
    "        ranks.append(data_draft[r].text.strip())\n",
    "            \n",
    "    for m in range(1, len(data_draft), 3): #hanya mengambil market cap yg dimulai dri indeks 1 dan berjarak 3 index\n",
    "        mcap.append(data_draft[m].text.strip())\n",
    "        \n",
    "    for s in range(2, len(data_draft), 3): #hanya mengambil stock yg dimulai dri indeks 2 dan berjarak 3 index\n",
    "        stocks.append(data_draft[s].text.strip())\n",
    "    \n",
    "    company = soup.find_all('a')\n",
    "    names = []\n",
    "            \n",
    "    for n in range (8, (6*51)+2): #karena ada 6 data, dan satu halaman ada 50 baris (50+1)\n",
    "        names.append(company[n])\n",
    "        \n",
    "    for c in range(0, len(names), 6): #hanya mengambil nama yg dimulai dri indeks 0 dan berjarak 6 index\n",
    "        companies.append(names[c].text.strip())\n",
    "        \n",
    "    for y in range(3, len(names), 6): #hanya mengambil negara yg dimulai dri indeks 3 dan berjarak 6 index\n",
    "        country.append(names[y].text.strip())\n",
    "    \n",
    "    for s in range(4, len(names), 6): #hanya mengambil sektor yg dimulai dri indeks 4 dan berjarak 6 index\n",
    "        sectors.append(names[s].text.strip())\n",
    "    \n",
    "    for i in range(5, len(names), 6): #hanya mengambil nama yg dimulai dri indeks 5 dan berjarak 6 index\n",
    "        industries.append(names[i].text.strip())\n",
    "    "
   ]
  },
  {
   "cell_type": "code",
   "execution_count": 25,
   "id": "cf3448b0",
   "metadata": {},
   "outputs": [],
   "source": [
    "data = {\n",
    "    'Rank': ranks,\n",
    "    'Company': companies,\n",
    "    'Market Cap': mcap,\n",
    "    'Stock': stocks,\n",
    "    'Country': country,\n",
    "    'Sector': sectors,\n",
    "    'Industry': industries\n",
    "}"
   ]
  },
  {
   "cell_type": "code",
   "execution_count": 26,
   "id": "b40c74ca",
   "metadata": {
    "scrolled": false
   },
   "outputs": [
    {
     "data": {
      "text/html": [
       "<div>\n",
       "<style scoped>\n",
       "    .dataframe tbody tr th:only-of-type {\n",
       "        vertical-align: middle;\n",
       "    }\n",
       "\n",
       "    .dataframe tbody tr th {\n",
       "        vertical-align: top;\n",
       "    }\n",
       "\n",
       "    .dataframe thead th {\n",
       "        text-align: right;\n",
       "    }\n",
       "</style>\n",
       "<table border=\"1\" class=\"dataframe\">\n",
       "  <thead>\n",
       "    <tr style=\"text-align: right;\">\n",
       "      <th></th>\n",
       "      <th>Rank</th>\n",
       "      <th>Company</th>\n",
       "      <th>Market Cap</th>\n",
       "      <th>Stock</th>\n",
       "      <th>Country</th>\n",
       "      <th>Sector</th>\n",
       "      <th>Industry</th>\n",
       "    </tr>\n",
       "  </thead>\n",
       "  <tbody>\n",
       "    <tr>\n",
       "      <th>0</th>\n",
       "      <td>1</td>\n",
       "      <td>Apple Inc.</td>\n",
       "      <td>$2.067 T</td>\n",
       "      <td>AAPL</td>\n",
       "      <td>United States</td>\n",
       "      <td>Technology</td>\n",
       "      <td>Consumer Electronics</td>\n",
       "    </tr>\n",
       "    <tr>\n",
       "      <th>1</th>\n",
       "      <td>2</td>\n",
       "      <td>Saudi Arabian Oil Company</td>\n",
       "      <td>$1.883 T</td>\n",
       "      <td>2222</td>\n",
       "      <td>Saudi Arabia</td>\n",
       "      <td>Energy</td>\n",
       "      <td>Oil &amp; Gas Integrated</td>\n",
       "    </tr>\n",
       "    <tr>\n",
       "      <th>2</th>\n",
       "      <td>3</td>\n",
       "      <td>Microsoft Corporation</td>\n",
       "      <td>$1.788 T</td>\n",
       "      <td>MSFT</td>\n",
       "      <td>United States</td>\n",
       "      <td>Technology</td>\n",
       "      <td>Software—Infrastructure</td>\n",
       "    </tr>\n",
       "    <tr>\n",
       "      <th>3</th>\n",
       "      <td>4</td>\n",
       "      <td>Alphabet Inc.</td>\n",
       "      <td>$1.158 T</td>\n",
       "      <td>GOOG</td>\n",
       "      <td>United States</td>\n",
       "      <td>Communication Services</td>\n",
       "      <td>Internet Content &amp; Information</td>\n",
       "    </tr>\n",
       "    <tr>\n",
       "      <th>4</th>\n",
       "      <td>5</td>\n",
       "      <td>Amazon.com, Inc.</td>\n",
       "      <td>$875.51 B</td>\n",
       "      <td>AMZN</td>\n",
       "      <td>United States</td>\n",
       "      <td>Consumer Discretionary</td>\n",
       "      <td>Internet Retail</td>\n",
       "    </tr>\n",
       "    <tr>\n",
       "      <th>...</th>\n",
       "      <td>...</td>\n",
       "      <td>...</td>\n",
       "      <td>...</td>\n",
       "      <td>...</td>\n",
       "      <td>...</td>\n",
       "      <td>...</td>\n",
       "      <td>...</td>\n",
       "    </tr>\n",
       "    <tr>\n",
       "      <th>495</th>\n",
       "      <td>496</td>\n",
       "      <td>NatWest Group plc</td>\n",
       "      <td>$31.83 B</td>\n",
       "      <td>NWG</td>\n",
       "      <td>United Kingdom</td>\n",
       "      <td>Financials</td>\n",
       "      <td>Banks</td>\n",
       "    </tr>\n",
       "    <tr>\n",
       "      <th>496</th>\n",
       "      <td>497</td>\n",
       "      <td>The Kroger Co.</td>\n",
       "      <td>$31.83 B</td>\n",
       "      <td>KR</td>\n",
       "      <td>United States</td>\n",
       "      <td>Consumer Staples</td>\n",
       "      <td>Grocery Stores</td>\n",
       "    </tr>\n",
       "    <tr>\n",
       "      <th>497</th>\n",
       "      <td>498</td>\n",
       "      <td>China CITIC Bank Corp Ltd</td>\n",
       "      <td>$31.75 B</td>\n",
       "      <td>601998</td>\n",
       "      <td>China</td>\n",
       "      <td>Financials</td>\n",
       "      <td>Banks</td>\n",
       "    </tr>\n",
       "    <tr>\n",
       "      <th>498</th>\n",
       "      <td>499</td>\n",
       "      <td>Experian plc</td>\n",
       "      <td>$31.71 B</td>\n",
       "      <td>EXPN</td>\n",
       "      <td>Ireland</td>\n",
       "      <td>Industrials</td>\n",
       "      <td>Consulting Services</td>\n",
       "    </tr>\n",
       "    <tr>\n",
       "      <th>499</th>\n",
       "      <td>500</td>\n",
       "      <td>Old Dominion Freight Line, Inc.</td>\n",
       "      <td>$31.71 B</td>\n",
       "      <td>ODFL</td>\n",
       "      <td>United States</td>\n",
       "      <td>Industrials</td>\n",
       "      <td>Trucking</td>\n",
       "    </tr>\n",
       "  </tbody>\n",
       "</table>\n",
       "<p>500 rows × 7 columns</p>\n",
       "</div>"
      ],
      "text/plain": [
       "    Rank                          Company Market Cap   Stock         Country  \\\n",
       "0      1                       Apple Inc.   $2.067 T    AAPL   United States   \n",
       "1      2        Saudi Arabian Oil Company   $1.883 T    2222    Saudi Arabia   \n",
       "2      3            Microsoft Corporation   $1.788 T    MSFT   United States   \n",
       "3      4                    Alphabet Inc.   $1.158 T    GOOG   United States   \n",
       "4      5                 Amazon.com, Inc.  $875.51 B    AMZN   United States   \n",
       "..   ...                              ...        ...     ...             ...   \n",
       "495  496                NatWest Group plc   $31.83 B     NWG  United Kingdom   \n",
       "496  497                   The Kroger Co.   $31.83 B      KR   United States   \n",
       "497  498        China CITIC Bank Corp Ltd   $31.75 B  601998           China   \n",
       "498  499                     Experian plc   $31.71 B    EXPN         Ireland   \n",
       "499  500  Old Dominion Freight Line, Inc.   $31.71 B    ODFL   United States   \n",
       "\n",
       "                     Sector                        Industry  \n",
       "0                Technology            Consumer Electronics  \n",
       "1                    Energy            Oil & Gas Integrated  \n",
       "2                Technology         Software—Infrastructure  \n",
       "3    Communication Services  Internet Content & Information  \n",
       "4    Consumer Discretionary                 Internet Retail  \n",
       "..                      ...                             ...  \n",
       "495              Financials                           Banks  \n",
       "496        Consumer Staples                  Grocery Stores  \n",
       "497              Financials                           Banks  \n",
       "498             Industrials             Consulting Services  \n",
       "499             Industrials                        Trucking  \n",
       "\n",
       "[500 rows x 7 columns]"
      ]
     },
     "execution_count": 26,
     "metadata": {},
     "output_type": "execute_result"
    }
   ],
   "source": [
    "pd.DataFrame(data)"
   ]
  },
  {
   "cell_type": "code",
   "execution_count": 27,
   "id": "c4b70002",
   "metadata": {},
   "outputs": [],
   "source": [
    "pd.DataFrame(data).to_excel('Top_500_Companies.xlsx')"
   ]
  }
 ],
 "metadata": {
  "kernelspec": {
   "display_name": "Python 3 (ipykernel)",
   "language": "python",
   "name": "python3"
  },
  "language_info": {
   "codemirror_mode": {
    "name": "ipython",
    "version": 3
   },
   "file_extension": ".py",
   "mimetype": "text/x-python",
   "name": "python",
   "nbconvert_exporter": "python",
   "pygments_lexer": "ipython3",
   "version": "3.9.12"
  }
 },
 "nbformat": 4,
 "nbformat_minor": 5
}
